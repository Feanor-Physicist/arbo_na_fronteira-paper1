{
 "cells": [
  {
   "cell_type": "code",
   "execution_count": 1,
   "metadata": {},
   "outputs": [],
   "source": [
    "import sys \n",
    "import math \n",
    "import lmfit as lm\n",
    "import numpy as np \n",
    "import pandas as pd\n",
    "from epiweeks import Week\n",
    "import matplotlib.pyplot as plt\n",
    "from lmfit import Parameters, Minimizer\n",
    "from datetime import datetime, timedelta\n",
    "from sklearn.metrics import mean_squared_error as mse \n",
    "from edo_model_yang_weekly import system_odes, solve_model\n",
    "from parameters import dict_theta_m, dict_mu_m\n",
    "from parameters import d, theta_m, mu_a, mu_m, gamma_m\n",
    "from parameters import beta as beta_ \n",
    "from parameters import b as b_ \n"
   ]
  },
  {
   "cell_type": "markdown",
   "metadata": {},
   "source": [
    "### Olhando para os dados de sorotipo"
   ]
  },
  {
   "cell_type": "code",
   "execution_count": 2,
   "metadata": {},
   "outputs": [
    {
     "data": {
      "text/html": [
       "<div>\n",
       "<style scoped>\n",
       "    .dataframe tbody tr th:only-of-type {\n",
       "        vertical-align: middle;\n",
       "    }\n",
       "\n",
       "    .dataframe tbody tr th {\n",
       "        vertical-align: top;\n",
       "    }\n",
       "\n",
       "    .dataframe thead th {\n",
       "        text-align: right;\n",
       "    }\n",
       "</style>\n",
       "<table border=\"1\" class=\"dataframe\">\n",
       "  <thead>\n",
       "    <tr style=\"text-align: right;\">\n",
       "      <th></th>\n",
       "      <th>ano</th>\n",
       "      <th>DENV-1</th>\n",
       "      <th>DENV-2</th>\n",
       "      <th>DENV-4</th>\n",
       "    </tr>\n",
       "  </thead>\n",
       "  <tbody>\n",
       "    <tr>\n",
       "      <th>0</th>\n",
       "      <td>2010</td>\n",
       "      <td>96.000000</td>\n",
       "      <td>4.000000</td>\n",
       "      <td>0.000000</td>\n",
       "    </tr>\n",
       "    <tr>\n",
       "      <th>1</th>\n",
       "      <td>2011</td>\n",
       "      <td>84.615385</td>\n",
       "      <td>15.384615</td>\n",
       "      <td>0.000000</td>\n",
       "    </tr>\n",
       "    <tr>\n",
       "      <th>2</th>\n",
       "      <td>2012</td>\n",
       "      <td>92.307692</td>\n",
       "      <td>7.692308</td>\n",
       "      <td>0.000000</td>\n",
       "    </tr>\n",
       "    <tr>\n",
       "      <th>3</th>\n",
       "      <td>2013</td>\n",
       "      <td>80.000000</td>\n",
       "      <td>0.000000</td>\n",
       "      <td>20.000000</td>\n",
       "    </tr>\n",
       "    <tr>\n",
       "      <th>4</th>\n",
       "      <td>2014</td>\n",
       "      <td>100.000000</td>\n",
       "      <td>0.000000</td>\n",
       "      <td>0.000000</td>\n",
       "    </tr>\n",
       "    <tr>\n",
       "      <th>5</th>\n",
       "      <td>2015</td>\n",
       "      <td>91.111111</td>\n",
       "      <td>0.000000</td>\n",
       "      <td>8.888889</td>\n",
       "    </tr>\n",
       "    <tr>\n",
       "      <th>6</th>\n",
       "      <td>2016</td>\n",
       "      <td>99.052133</td>\n",
       "      <td>0.000000</td>\n",
       "      <td>0.947867</td>\n",
       "    </tr>\n",
       "    <tr>\n",
       "      <th>7</th>\n",
       "      <td>2017</td>\n",
       "      <td>0.000000</td>\n",
       "      <td>0.000000</td>\n",
       "      <td>0.000000</td>\n",
       "    </tr>\n",
       "    <tr>\n",
       "      <th>8</th>\n",
       "      <td>2018</td>\n",
       "      <td>83.333333</td>\n",
       "      <td>8.333333</td>\n",
       "      <td>8.333333</td>\n",
       "    </tr>\n",
       "    <tr>\n",
       "      <th>9</th>\n",
       "      <td>2019</td>\n",
       "      <td>46.254072</td>\n",
       "      <td>18.023887</td>\n",
       "      <td>35.722041</td>\n",
       "    </tr>\n",
       "    <tr>\n",
       "      <th>10</th>\n",
       "      <td>2020</td>\n",
       "      <td>4.095563</td>\n",
       "      <td>93.174061</td>\n",
       "      <td>2.730375</td>\n",
       "    </tr>\n",
       "  </tbody>\n",
       "</table>\n",
       "</div>"
      ],
      "text/plain": [
       "     ano      DENV-1     DENV-2     DENV-4\n",
       "0   2010   96.000000   4.000000   0.000000\n",
       "1   2011   84.615385  15.384615   0.000000\n",
       "2   2012   92.307692   7.692308   0.000000\n",
       "3   2013   80.000000   0.000000  20.000000\n",
       "4   2014  100.000000   0.000000   0.000000\n",
       "5   2015   91.111111   0.000000   8.888889\n",
       "6   2016   99.052133   0.000000   0.947867\n",
       "7   2017    0.000000   0.000000   0.000000\n",
       "8   2018   83.333333   8.333333   8.333333\n",
       "9   2019   46.254072  18.023887  35.722041\n",
       "10  2020    4.095563  93.174061   2.730375"
      ]
     },
     "execution_count": 2,
     "metadata": {},
     "output_type": "execute_result"
    }
   ],
   "source": [
    "df_sor = pd.read_csv('sorotipo_by_year.csv')\n",
    "\n",
    "df_sor['DENV-1'] = df_sor['DENV-1']*100\n",
    "df_sor['DENV-2'] = df_sor['DENV-2']*100\n",
    "df_sor['DENV-4'] = df_sor['DENV-4']*100\n",
    "\n",
    "df_sor"
   ]
  },
  {
   "cell_type": "markdown",
   "metadata": {},
   "source": [
    "Selecionando os anos epidêmicos apenas:"
   ]
  },
  {
   "cell_type": "code",
   "execution_count": 3,
   "metadata": {},
   "outputs": [],
   "source": [
    "df_sor = df_sor.loc[df_sor.ano.isin([2010, 2011, 2013, 2015, 2016, 2019, 2020])]\n",
    "weight_counts = {\n",
    "    \"DENV-1\": np.array(df_sor['DENV-1']),\n",
    "    \"DENV-2\": np.array(df_sor['DENV-2']),\n",
    "    \"DENV-4\": np.array(df_sor['DENV-4'])\n",
    "}\n",
    "width = 0.5"
   ]
  },
  {
   "cell_type": "code",
   "execution_count": 4,
   "metadata": {},
   "outputs": [
    {
     "data": {
      "image/png": "[encoded data removed]",
      "text/plain": [
       "<Figure size 640x480 with 1 Axes>"
      ]
     },
     "metadata": {},
     "output_type": "display_data"
    }
   ],
   "source": [
    "'''Plot só do sorotipo'''\n",
    "fig, ax = plt.subplots()\n",
    "\n",
    "bottom = np.zeros(len(df_sor.ano))\n",
    "\n",
    "for boolean, weight_count in weight_counts.items():\n",
    "    p = ax.bar(df_sor.ano.astype(str), weight_count, width, label=boolean, bottom=bottom, zorder=2)\n",
    "    bottom += weight_count\n",
    "    \n",
    "#ax.set_title('Sorotype notified by year (%)')\n",
    "ax.set_ylabel('Cases serotypes (%)')\n",
    "ax.set_xlabel('Epidemic years')\n",
    "\n",
    "\n",
    "ax.legend(bbox_to_anchor=(1.001, 1.02), loc='upper left')\n",
    "\n",
    "ax.set_xticks(df_sor.ano.astype(str), labels = df_sor.ano.astype(str))\n",
    "ax.yaxis.grid(zorder= 1)\n",
    "\n",
    "#plt.savefig('sorotype_only.png', dpi = 300, bbox_inches = 'tight')\n",
    "plt.show()"
   ]
  }
 ],
 "metadata": {
  "kernelspec": {
   "display_name": "base",
   "language": "python",
   "name": "python3"
  },
  "language_info": {
   "codemirror_mode": {
    "name": "ipython",
    "version": 3
   },
   "file_extension": ".py",
   "mimetype": "text/x-python",
   "name": "python",
   "nbconvert_exporter": "python",
   "pygments_lexer": "ipython3",
   "version": "3.9.19"
  }
 },
 "nbformat": 4,
 "nbformat_minor": 2
}
